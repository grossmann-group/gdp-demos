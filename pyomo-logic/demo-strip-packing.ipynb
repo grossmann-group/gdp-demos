{
 "cells": [
  {
   "cell_type": "markdown",
   "metadata": {},
   "source": [
    "# [Pyomo.GDP](./index.ipynb) Logical Expression System Demo - Strip Packing Problem\n",
    "\n",
    "This is a reproduction of the strip packing problem, found in Section 4.1 of:\n",
    "\n",
    "> Sawaya, NS and Grossmann, IE.\\\n",
    "*A cutting plane method for solving linear generalized disjunctive programming problems*.\\\n",
    "Proceedings of PSE2003, 1032 (2003).\n",
    "\n",
    "This code relies on the logic-v1 branch at https://github.com/qtothec/pyomo/tree/logic-v1"
   ]
  },
  {
   "cell_type": "code",
   "execution_count": 1,
   "metadata": {},
   "outputs": [],
   "source": [
    "from pyomo.environ import *\n",
    "from pyomo.gdp import *\n",
    "from pyomo.core.expr.logical_expr import *\n",
    "from pyomo.core.plugins.transform.logical_to_linear import update_boolean_vars_from_binary"
   ]
  },
  {
   "cell_type": "code",
   "execution_count": 2,
   "metadata": {},
   "outputs": [],
   "source": [
    "from six import StringIO\n",
    "rectangles = StringIO(\"\"\"\n",
    "length width\n",
    "1 10\n",
    "2 9\n",
    "3 8\n",
    "4 4\n",
    "5 5\n",
    "9 6\n",
    "7 7\n",
    "6 3\n",
    "5 2\n",
    "12 1\n",
    "3 1\n",
    "2 3\n",
    "\"\"\")\n",
    "import pandas as pd\n",
    "imported_data = pd.read_csv(rectangles, delimiter=' ')  # Note: this could come from an external data file\n",
    "num_rectangles = len(imported_data)\n",
    "imported_data.set_index(pd.Index([i + 1 for i in range(num_rectangles)]), inplace=True)  # 1-based index"
   ]
  },
  {
   "cell_type": "code",
   "execution_count": 3,
   "metadata": {},
   "outputs": [],
   "source": [
    "m = ConcreteModel()\n",
    "m.rectangles = RangeSet(num_rectangles)\n",
    "m.alignments = Set(initialize=[\"left\", \"right\", \"above\", \"below\"])\n",
    "m.rectangle_pairs = Set(initialize=[(r1, r2) for r1, r2 in m.rectangles * m.rectangles if r1 < r2])\n",
    "\n",
    "m.length = Param(m.rectangles, initialize=imported_data['length'].to_dict())\n",
    "m.height = Param(m.rectangles, initialize=imported_data['width'].to_dict())\n",
    "max_length = sum(m.length[r] for r in m.rectangles)\n",
    "max_width = 10\n",
    "\n",
    "m.x = Var(m.rectangles, bounds=(0, max_length), doc=\"Rectangle position along length domain\")\n",
    "m.y = Var(m.rectangles, bounds=(0, max_width), doc=\"Rectangle position along height domain\")\n",
    "m.total_length = Var(bounds=(0, max_length))\n",
    "\n",
    "@m.Disjunction(m.rectangle_pairs)\n",
    "def no_overlap(m, r1, r2):\n",
    "    return [\n",
    "        [m.x[r1] + m.length[r1] <= m.x[r2]],  # r1 left of r2\n",
    "        [m.x[r2] + m.length[r2] <= m.x[r1]],  # r1 right of r2\n",
    "        [m.y[r1] + m.height[r1] <= m.y[r2]], # r1 below r2\n",
    "        [m.y[r2] + m.height[r2] <= m.y[r1]], # r1 above r2\n",
    "    ]\n",
    "\n",
    "@m.Constraint(m.rectangles)\n",
    "def total_length_calc(m, r):\n",
    "    return m.total_length >= m.x[r] + m.length[r]\n",
    "\n",
    "for r in m.rectangles:\n",
    "    m.x[r].setub(max_length - m.length[r])\n",
    "    m.y[r].setub(max_width - m.height[r])\n",
    "\n",
    "m.strip_length = Objective(expr=m.total_length)"
   ]
  },
  {
   "cell_type": "code",
   "execution_count": 4,
   "metadata": {},
   "outputs": [],
   "source": [
    "TransformationFactory('core.logical_to_linear').apply_to(m)\n",
    "SolverFactory('gdpopt').solve(m, tee=False, nlp_solver='gams')\n",
    "# TransformationFactory('gdp.bigm').apply_to(m)\n",
    "SolverFactory('gams').solve(m, tee=False)\n",
    "update_boolean_vars_from_binary(m)\n",
    "# m.display()"
   ]
  },
  {
   "cell_type": "code",
   "execution_count": 5,
   "metadata": {},
   "outputs": [
    {
     "name": "stdout",
     "output_type": "stream",
     "text": [
      "total_length : Size=1, Index=None\n",
      "    Key  : Lower : Value : Upper : Fixed : Stale : Domain\n",
      "    None :     0 :  27.0 :    59 : False : False :  Reals\n",
      "x : Rectangle position along length domain\n",
      "    Size=12, Index=rectangles\n",
      "    Key : Lower : Value : Upper : Fixed : Stale : Domain\n",
      "      1 :     0 :  26.0 :    58 : False : False :  Reals\n",
      "      2 :     0 :  10.0 :    57 : False : False :  Reals\n",
      "      3 :     0 :   0.0 :    56 : False : False :  Reals\n",
      "      4 :     0 :  12.0 :    55 : False : False :  Reals\n",
      "      5 :     0 :  12.0 :    54 : False : False :  Reals\n",
      "      6 :     0 :  17.0 :    50 : False : False :  Reals\n",
      "      7 :     0 :   3.0 :    52 : False : False :  Reals\n",
      "      8 :     0 :   3.0 :    53 : False : False :  Reals\n",
      "      9 :     0 :  21.0 :    54 : False : False :  Reals\n",
      "     10 :     0 :   9.0 :    47 : False : False :  Reals\n",
      "     11 :     0 :  21.0 :    56 : False : False :  Reals\n",
      "     12 :     0 :  17.0 :    57 : False : False :  Reals\n",
      "y : Rectangle position along height domain\n",
      "    Size=12, Index=rectangles\n",
      "    Key : Lower : Value : Upper : Fixed : Stale : Domain\n",
      "      1 :     0 :   0.0 :     0 : False : False :  Reals\n",
      "      2 :     0 :   0.0 :     1 : False : False :  Reals\n",
      "      3 :     0 :   0.0 :     2 : False : False :  Reals\n",
      "      4 :     0 :   0.0 :     6 : False : False :  Reals\n",
      "      5 :     0 :   4.0 :     5 : False : False :  Reals\n",
      "      6 :     0 :   0.0 :     4 : False : False :  Reals\n",
      "      7 :     0 :   0.0 :     3 : False : False :  Reals\n",
      "      8 :     0 :   7.0 :     7 : False : False :  Reals\n",
      "      9 :     0 :   8.0 :     8 : False : False :  Reals\n",
      "     10 :     0 :   9.0 :     9 : False : False :  Reals\n",
      "     11 :     0 :   7.0 :     9 : False : False :  Reals\n",
      "     12 :     0 :   6.0 :     7 : False : False :  Reals\n"
     ]
    }
   ],
   "source": [
    "m.total_length.display()\n",
    "m.x.display()\n",
    "m.y.display()"
   ]
  },
  {
   "cell_type": "code",
   "execution_count": 6,
   "metadata": {},
   "outputs": [
    {
     "data": {
      "image/png": "[encoded data removed]",
      "text/plain": [
       "<Figure size 432x288 with 1 Axes>"
      ]
     },
     "metadata": {},
     "output_type": "display_data"
    }
   ],
   "source": [
    "import matplotlib\n",
    "import matplotlib.pyplot as plt\n",
    "import numpy as np\n",
    "from matplotlib.collections import PatchCollection\n",
    "plt.style.use('ggplot')\n",
    "\n",
    "fig = plt.figure()\n",
    "axis = fig.gca()\n",
    "p = PatchCollection([\n",
    "    plt.Rectangle((m.x[r].value, m.y[r].value), m.length[r], m.height[r], edgecolor='black', facecolor='white', alpha=0.5)\n",
    "    for r in m.rectangles\n",
    "], match_original=True)\n",
    "axis.add_collection(p)\n",
    "for r in m.rectangles:\n",
    "    axis.annotate(str(r), xy=(m.x[r].value + m.length[r] / 2, m.y[r].value + m.height[r] / 2), ha='center', va='center_baseline')\n",
    "plt.axis('scaled')\n",
    "plt.show()"
   ]
  },
  {
   "cell_type": "code",
   "execution_count": 8,
   "metadata": {},
   "outputs": [
    {
     "name": "stdout",
     "output_type": "stream",
     "text": [
      "Hit:1 http://us.archive.ubuntu.com/ubuntu bionic InRelease\n",
      "Get:2 http://us.archive.ubuntu.com/ubuntu bionic-updates InRelease [88.7 kB]   \u001b[0m\n",
      "Get:3 http://us.archive.ubuntu.com/ubuntu bionic-backports InRelease [74.6 kB][0m0m\u001b[33m\n",
      "Get:4 http://us.archive.ubuntu.com/ubuntu bionic-security InRelease [88.7 kB]\u001b[0m0m\u001b[33m\n",
      "Hit:5 http://ppa.launchpad.net/certbot/certbot/ubuntu bionic InRelease         \u001b[0m\u001b[33m\n",
      "Get:6 http://us.archive.ubuntu.com/ubuntu bionic-updates/main amd64 Packages [853 kB]\n",
      "Get:7 http://us.archive.ubuntu.com/ubuntu bionic-updates/main Translation-en [298 kB]\n",
      "Get:8 http://us.archive.ubuntu.com/ubuntu bionic-updates/universe amd64 Packages [1,049 kB]\n",
      "Get:9 http://us.archive.ubuntu.com/ubuntu bionic-updates/universe Translation-en [324 kB]\n",
      "Get:10 http://us.archive.ubuntu.com/ubuntu bionic-security/main amd64 Packages [636 kB]m\u001b[33m\n",
      "Get:11 http://us.archive.ubuntu.com/ubuntu bionic-security/main Translation-en [208 kB]m\n",
      "Get:12 http://us.archive.ubuntu.com/ubuntu bionic-security/universe amd64 Packages [645 kB]\n",
      "Fetched 4,264 kB in 1s (3,543 kB/s)[0m                          \u001b[0m\u001b[33m\u001b[33m\u001b[33m\u001b[33m\u001b[33m\u001b[33m\u001b[33m\n",
      "Reading package lists... Done\n",
      "Building dependency tree       \n",
      "Reading state information... Done\n",
      "All packages are up to date.\n"
     ]
    }
   ],
   "source": [
    "!sudo apt update"
   ]
  },
  {
   "cell_type": "code",
   "execution_count": null,
   "metadata": {},
   "outputs": [],
   "source": []
  }
 ],
 "metadata": {
  "kernelspec": {
   "display_name": "Pyomo (logical beta)",
   "language": "python",
   "name": "logic-beta"
  },
  "language_info": {
   "codemirror_mode": {
    "name": "ipython",
    "version": 3
   },
   "file_extension": ".py",
   "mimetype": "text/x-python",
   "name": "python",
   "nbconvert_exporter": "python",
   "pygments_lexer": "ipython3",
   "version": "3.7.4"
  }
 },
 "nbformat": 4,
 "nbformat_minor": 4
}
