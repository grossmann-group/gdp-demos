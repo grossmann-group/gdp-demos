{
 "cells": [
  {
   "cell_type": "markdown",
   "metadata": {},
   "source": [
    "# Generalized Disjunctive Programming in Pyomo <img src=\"Pyomo-GDP-150.png\" width=\"20%\" style=\"float: right; margin: 1rem;\" />\n",
    "\n",
    "<br style=\"clear:right;\" />\n",
    "\n",
    "Pyomo.GDP provides support for Generalized Disjunctive Programming<sup>[1](#ref-1)</sup> within the Pyomo algebraic modeling language.\n",
    "GDP is an extension of Disjunctive Programming<sup>[2](#ref-2)</sup> from the operations research community to include nonlinear relationships.\n",
    "The classic form for a GDP is:\n",
    "\n",
    "$$\n",
    "\\begin{aligned}\n",
    "\\min obj = &\\ f(x, z) \\\\\n",
    "s.t. \\quad &\\ Ax+Bz \\leq d\\\\\n",
    "&\\ g(x,z) \\leq 0\\\\\n",
    "&\\ \\bigvee_{i\\in D_k} \\left[\n",
    "    \\begin{gathered}\n",
    "    Y_{ik} \\\\\n",
    "    M_{ik} x + N_{ik} z \\leq e_{ik} \\\\\n",
    "    r_{ik}(x,z)\\leq 0\\\\\n",
    "    \\end{gathered}\n",
    "\\right] \\quad k \\in K\\\\\n",
    "&\\ \\Omega(Y) = True \\\\\n",
    "&\\ x \\in X \\subseteq \\mathbb{R}^n\\\\\n",
    "&\\ Y \\in \\{True, False\\}^{p}\\\\\n",
    "&\\ z \\in Z \\subseteq \\mathbb{Z}^m\\\\\n",
    "\\end{aligned} \\tag{GDP}\n",
    "$$\n",
    "\n",
    "Here, we have the minimization of an objective $obj$ subject to global linear constraints $Ax+Bz \\leq d$ and nonlinear constraints $g(x,z) \\leq 0$, with conditional linear constraints $M_{ik} x + N_{ik} z \\leq e_{ik}$ and nonlinear constraints $r_{ik}(x,z)\\leq 0$.\n",
    "These conditional constraints are collected into disjuncts $D_k$, organized into disjunctions $K$. Finally, there are logical propositions $\\Omega(Y) = True$.\n",
    "Decision/state variables can be continuous $x$, Boolean $Y$, and/or integer $z$."
   ]
  },
  {
   "cell_type": "code",
   "execution_count": 1,
   "metadata": {},
   "outputs": [],
   "source": [
    "# Required python imports\n",
    "from pyomo.environ import *\n",
    "from pyomo.gdp import *\n",
    "from pyomo.core.expr.logical_expr import *\n",
    "from pyomo.core.plugins.transform.logical_to_linear import update_boolean_vars_from_binary\n",
    "m = ConcreteModel()\n",
    "m.my_set = RangeSet(4)"
   ]
  },
  {
   "cell_type": "markdown",
   "metadata": {},
   "source": [
    "## Disjunct\n",
    "\n",
    "Disjuncts represent groupings of relational expressions (e.g. algebraic constraints) summarized by a Boolean indicator variable $Y$ through implication:\n",
    "\n",
    "$$\n",
    "\\left.\n",
    "\\begin{aligned}\n",
    "& Y_{ik} \\Rightarrow & M_{ik} x + N_{ik} z &\\leq e_{ik}\\\\\n",
    "& Y_{ik} \\Rightarrow & r_{ik}(x,z) &\\leq 0\n",
    "\\end{aligned}\n",
    "\\right.\\qquad \\forall i \\in D_k, \\forall k \\in K\n",
    "$$\n",
    "\n",
    "Logically, this means that if $Y_{ik} = True$, then the constraints $M_{ik} x + N_{ik} z \\leq e_{ik}$ and $r_{ik}(x,z) \\leq 0$ must be satisfied.\n",
    "However, if $Y_{ik} = False$, then the corresponding constraints are ignored.\n",
    "Note that $Y_{ik} = False$ does **not** imply that the corresponding constraints are *violated*."
   ]
  },
  {
   "cell_type": "markdown",
   "metadata": {},
   "source": [
    "## Disjunction\n",
    "\n",
    "Disjunctions describe a logical *or* relationship between two or more Disjuncts."
   ]
  },
  {
   "cell_type": "markdown",
   "metadata": {},
   "source": [
    "## BooleanVar\n",
    "\n",
    "For historical reasons, the `indicator_var` variable automatically added to disjuncts in `Pyomo.GDP` has type `binary` rather than `Boolean`.\n",
    "As a result, we define the `BooleanVar` object in Pyomo to represent Boolean variables, analogous to `Var` for numeric variables.\n",
    "`BooleanVar` can be indexed over a Pyomo `Set`, as below:"
   ]
  },
  {
   "cell_type": "code",
   "execution_count": 2,
   "metadata": {},
   "outputs": [
    {
     "name": "stdout",
     "output_type": "stream",
     "text": [
      "Y : Size=4, Index=my_set\n",
      "    Key : Value : Fixed : Stale\n",
      "      1 :  None : False :  True\n",
      "      2 :  None : False :  True\n",
      "      3 :  None : False :  True\n",
      "      4 :  None : False :  True\n"
     ]
    }
   ],
   "source": [
    "m.Y = BooleanVar(m.my_set)\n",
    "m.Y.display()"
   ]
  },
  {
   "cell_type": "markdown",
   "metadata": {},
   "source": [
    "## LogicalStatement\n",
    "\n",
    "Likewise, logical propositions in `Pyomo.GDP` are expressed using `LogicalStatment` objects, analogous to numeric `Constraint` objects."
   ]
  },
  {
   "cell_type": "code",
   "execution_count": 3,
   "metadata": {},
   "outputs": [
    {
     "name": "stdout",
     "output_type": "stream",
     "text": [
      "p : Size=1, Index=None, Active=True\n",
      "    Key  : Body                         : Active\n",
      "    None : Y[1] >> (Y[2] & Y[3]) | Y[4] :   True\n"
     ]
    }
   ],
   "source": [
    "m.p = LogicalStatement(expr=m.Y[1].implies(m.Y[2] & m.Y[3]) | m.Y[4])\n",
    "m.p.pprint()"
   ]
  },
  {
   "cell_type": "markdown",
   "metadata": {},
   "source": [
    "# Demonstrations\n",
    "\n",
    "1. [Supported Expressions](./supported-expressions.ipynb)\n",
    "2. [Logical Propositions with Disjunctions](./use-with-disjunctions.ipynb)\n",
    "3. [Use with Pyomo.Network](./use-with-network.ipynb)  <-- *Work in progress*\n",
    "4. [Eight Process Problem](./demo-8pp.ipynb)\n",
    "5. [Strip Packing Problem](./demo-strip-packing.ipynb)"
   ]
  },
  {
   "cell_type": "markdown",
   "metadata": {},
   "source": [
    "# References\n",
    "\n",
    "1. Trespalacios \\& Grossmann, 2014: https://doi.org/10.1002/cite.201400037\n",
    "2. Balas, 2018: https://doi.org/10.1007/978-3-030-00148-3"
   ]
  },
  {
   "cell_type": "code",
   "execution_count": null,
   "metadata": {},
   "outputs": [],
   "source": []
  }
 ],
 "metadata": {
  "kernelspec": {
   "display_name": "Pyomo (logical beta)",
   "language": "python",
   "name": "logic-beta"
  },
  "language_info": {
   "codemirror_mode": {
    "name": "ipython",
    "version": 3
   },
   "file_extension": ".py",
   "mimetype": "text/x-python",
   "name": "python",
   "nbconvert_exporter": "python",
   "pygments_lexer": "ipython3",
   "version": "3.7.4"
  }
 },
 "nbformat": 4,
 "nbformat_minor": 4
}
