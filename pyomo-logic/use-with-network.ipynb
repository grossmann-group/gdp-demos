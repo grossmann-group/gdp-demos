{
 "cells": [
  {
   "cell_type": "markdown",
   "metadata": {},
   "source": [
    "# [Pyomo.GDP](./index.ipynb) Logical Expression System Demo - Process Network Example\n",
    "\n",
    "This demo illustrates how to work with Pyomo.GDP logical expressions within the context of a process network.\n",
    "\n",
    "> Demo incomplete. Work in progress.\n",
    "\n",
    "This code relies on the logic-v1 branch at https://github.com/qtothec/pyomo/tree/logic-v1"
   ]
  },
  {
   "cell_type": "code",
   "execution_count": 1,
   "metadata": {},
   "outputs": [],
   "source": [
    "from pyomo.environ import *\n",
    "from pyomo.gdp import *\n",
    "from pyomo.core.expr.logical_expr import *\n",
    "from pyomo.core.plugins.transform.logical_to_linear import update_boolean_vars_from_binary"
   ]
  },
  {
   "cell_type": "code",
   "execution_count": 2,
   "metadata": {},
   "outputs": [],
   "source": [
    "m = ConcreteModel()\n",
    "m.units = RangeSet(5)\n",
    "m.components = Set(initialize=['A', 'B'])\n",
    "m.streams = Set(initialize=[(1, 3), (1, 4), (1, 5), (2, 3), (2, 4), (2, 5)])\n",
    "m.fc = Var(m.streams, m.components, domain=NonNegativeReals, doc=\"Component flow\")\n",
    "\n",
    "stream_to_inlet_unit = {1: 3, 2: 4, 3: 5, 4: 3, 5: 4, 6: 5}\n",
    "stream_to_outlet_unit = {1: 1, 2: 1, 3: 1, 4: 2, 5: 2, 6: 2}\n",
    "\n",
    "m.use_unit = Disjunct(m.units)\n",
    "m.no_unit = Disjunct(m.units)\n",
    "\n",
    "@m.Disjunction(m.units)\n",
    "def unit_exists_or_absent(m, unit):\n",
    "    return [m.use_unit[unit], m.no_unit[unit]]\n",
    "\n",
    "m.Yunit = BooleanVar(m.units)\n",
    "for unit in m.units:\n",
    "    m.Yunit[unit].set_binary_var(m.use_unit[unit].indicator_var)\n",
    "    \n",
    "@m.Disjunct(m.streams)\n",
    "def stream_exists(disj, u1, u2):\n",
    "    # This is the disjunct for stream s existing\n",
    "    pass\n",
    "\n",
    "@m.Disjunct(m.streams)\n",
    "def no_stream(disj, u1, u2):\n",
    "    @disj.Constraint(m.components)\n",
    "    def no_flow(disj, c):\n",
    "        return m.fc[u1, u2, c] == 0\n",
    "\n",
    "@m.Disjunction(m.streams)\n",
    "def stream_exists_or_not(m, u1, u2):\n",
    "    return [m.stream_exists[u1, u2], m.no_stream[u1, u2]]\n",
    "\n",
    "m.Ystream = BooleanVar(m.streams)\n",
    "for s in m.streams:\n",
    "    m.Ystream[s].set_binary_var(m.stream_exists[s].indicator_var)\n",
    "\n",
    "@m.LogicalStatement(m.streams)\n",
    "def unit_exists_iff_connected(m, u1, u2):\n",
    "    return m.Ystream[u1, u2].equivalent_to(m.Yunit[u1] & m.Yunit[u2])"
   ]
  },
  {
   "cell_type": "code",
   "execution_count": null,
   "metadata": {},
   "outputs": [],
   "source": []
  },
  {
   "cell_type": "code",
   "execution_count": null,
   "metadata": {},
   "outputs": [],
   "source": []
  }
 ],
 "metadata": {
  "kernelspec": {
   "display_name": "Pyomo (logical beta)",
   "language": "python",
   "name": "logic-beta"
  },
  "language_info": {
   "codemirror_mode": {
    "name": "ipython",
    "version": 3
   },
   "file_extension": ".py",
   "mimetype": "text/x-python",
   "name": "python",
   "nbconvert_exporter": "python",
   "pygments_lexer": "ipython3",
   "version": "3.7.4"
  }
 },
 "nbformat": 4,
 "nbformat_minor": 4
}
