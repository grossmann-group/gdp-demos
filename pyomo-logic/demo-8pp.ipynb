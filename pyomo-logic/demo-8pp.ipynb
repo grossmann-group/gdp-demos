{
 "cells": [
  {
   "cell_type": "markdown",
   "metadata": {},
   "source": [
    "# [Pyomo.GDP](./index.ipynb) Logical Expression System Demo - Eight Process Problem (8PP)\n",
    "\n",
    "This is a reproduction of the eight process problem, example 3 in:\n",
    "\n",
    "> *Select Optimal Process From Within Given Superstructure*.\\\n",
    "Marco Duran, PhD Thesis, 1984.\\\n",
    "Carnegie Mellon University, Pittsburgh, PA.\n",
    "\n",
    "This code relies on the logic-v1 branch at https://github.com/qtothec/pyomo/tree/logic-v1"
   ]
  },
  {
   "cell_type": "code",
   "execution_count": 1,
   "metadata": {},
   "outputs": [],
   "source": [
    "from pyomo.environ import *\n",
    "from pyomo.gdp import *\n",
    "from pyomo.core.expr.logical_expr import *\n",
    "from pyomo.core.plugins.transform.logical_to_linear import update_boolean_vars_from_binary"
   ]
  },
  {
   "cell_type": "code",
   "execution_count": 2,
   "metadata": {},
   "outputs": [
    {
     "name": "stdout",
     "output_type": "stream",
     "text": [
      "Model built.\n"
     ]
    }
   ],
   "source": [
    "m = ConcreteModel()\n",
    "m.streams = RangeSet(2, 25, doc=\"process streams\")\n",
    "m.units = RangeSet(1, 8, doc=\"process units\")\n",
    "m.fixed_cost = Param(m.units, doc=\"fixed cost\", initialize={\n",
    "    1: 5, 2: 8, 3: 6, 4: 10, 5: 6, 6: 7, 7: 4, 8: 5\n",
    "})\n",
    "m.unit_fixed_cost = Var(m.units, initialize=0, bounds=(0, 10))\n",
    "for unit, cost in m.fixed_cost.items():\n",
    "    m.unit_fixed_cost[unit].setub(cost)\n",
    "stream_variable_cost_data = {\n",
    "    3: -10, 5: -15, 9: -40, 19: 25, 21: 35, 25: -35,\n",
    "    17: 80, 14: 15, 10: 15, 2: 1, 4: 1, 18: -65, 20: -60,\n",
    "    22: -80}\n",
    "m.stream_variable_cost = Param(m.streams, initialize=stream_variable_cost_data, default=0)\n",
    "\n",
    "stream_flow_initial_guess = {\n",
    "    2: 2, 3: 1.5, 6: 0.75, 7: 0.5, 8: 0.5, 9: 0.75, 11: 1.5,\n",
    "    12: 1.34, 13: 2, 14: 2.5, 17: 2, 18: 0.75, 19: 2, 20: 1.5,\n",
    "    23: 1.7, 24: 1.5, 25: 0.5}\n",
    "stream_flow_upper_bound_data = {3: 2, 5: 2, 9: 2, 10: 1, 14: 1, 17: 2, 19: 2, 21: 2, 25: 3}\n",
    "\n",
    "m.flow = Var(m.streams, domain=NonNegativeReals, bounds=(0, 10),\n",
    "             initialize=stream_flow_initial_guess)\n",
    "for stream, ub in stream_flow_upper_bound_data.items():\n",
    "    m.flow[stream].setub(ub)\n",
    "\n",
    "m.min_cost = Objective(\n",
    "    expr=sum(m.unit_fixed_cost[unit] for unit in m.units) +\n",
    "    sum(m.flow[stream] * m.stream_variable_cost[stream]\n",
    "        for stream in m.streams) +\n",
    "    122,  # objective constant term\n",
    "    sense=minimize)\n",
    "\n",
    "@m.Disjunct(m.units)\n",
    "def use_unit_disj(disj_blk, unit):\n",
    "    disj_blk.constraints = ConstraintList()\n",
    "    # Add the fixed cost constraint to each disjunct, since it has a standard form\n",
    "    disj_blk.constraints.add(m.unit_fixed_cost[unit] == m.fixed_cost[unit])\n",
    "\n",
    "# Note: in a more structured model, we would make greater use of indexed variables and constraints\n",
    "unit_io_constraints = {\n",
    "    1: [exp(m.flow[3]) - 1 == m.flow[2],\n",
    "        m.flow[4] == 0, m.flow[5] == 0],\n",
    "    2: [exp(m.flow[5] / 1.2) - 1 == m.flow[4],\n",
    "        m.flow[2] == 0, m.flow[3] == 0],\n",
    "    3: [1.5 * m.flow[9] + m.flow[10] == m.flow[8]],\n",
    "    4: [1.25 * (m.flow[12] + m.flow[14]) == m.flow[13],\n",
    "        m.flow[15] == 0],\n",
    "    5: [m.flow[15] == 2 * m.flow[16],\n",
    "        m.flow[12] == 0, m.flow[14] == 0],\n",
    "    6: [exp(m.flow[20] / 1.5) - 1 == m.flow[19],\n",
    "        m.flow[21] == 0, m.flow[22] == 0],\n",
    "    7: [exp(m.flow[22]) - 1 == m.flow[21],\n",
    "        m.flow[19] == 0, m.flow[20] == 0],\n",
    "    8: [exp(m.flow[18]) - 1 == m.flow[10] + m.flow[17],]\n",
    "}\n",
    "for unit in m.units:\n",
    "    for constr in unit_io_constraints[unit]:\n",
    "        m.use_unit_disj[unit].constraints.add(constr)\n",
    "\n",
    "m.use_unit_1or2 = Disjunction(expr=[m.use_unit_disj[1], m.use_unit_disj[2]])\n",
    "m.use_unit_3ornot = Disjunction(expr=[m.use_unit_disj[3], [m.flow[9] == 0, m.flow[10] == m.flow[8]]])\n",
    "m.use_unit_4or5ornot = Disjunction(expr=[m.use_unit_disj[4], m.use_unit_disj[5], [m.flow[12] == 0, m.flow[14] == 0, m.flow[15] == 0]])\n",
    "m.use_unit_6or7ornot = Disjunction(expr=[m.use_unit_disj[6], m.use_unit_disj[7], [m.flow[21] == 0, m.flow[22] == 0, m.flow[19] == 0, m.flow[20] == 0]])\n",
    "m.use_unit_8ornot = Disjunction(expr=[m.use_unit_disj[8], [m.flow[10] == 0, m.flow[17] == 0, m.flow[18] == 0]])\n",
    "\n",
    "m.use_unit = BooleanVar(m.units)\n",
    "for unit in m.units:\n",
    "    # associate our Boolean variables with the auto-generated disjunct binary variables\n",
    "    m.use_unit[unit].set_binary_var(m.use_unit_disj[unit].indicator_var)\n",
    "    \n",
    "m.global_mass_balances = ConstraintList()\n",
    "m.global_mass_balances.add(m.flow[13] == m.flow[19] + m.flow[21])\n",
    "m.global_mass_balances.add(m.flow[17] == m.flow[9] + m.flow[16] + m.flow[25])\n",
    "m.global_mass_balances.add(m.flow[11] == m.flow[12] + m.flow[15])\n",
    "m.global_mass_balances.add(m.flow[3] + m.flow[5] == m.flow[6] + m.flow[11])\n",
    "m.global_mass_balances.add(m.flow[6] == m.flow[7] + m.flow[8])\n",
    "m.global_mass_balances.add(m.flow[23] == m.flow[20] + m.flow[22])\n",
    "m.global_mass_balances.add(m.flow[23] == m.flow[14] + m.flow[24])\n",
    "\n",
    "m.process_specs = ConstraintList()\n",
    "m.process_specs.add(m.flow[10] <= 0.8 * m.flow[17])\n",
    "m.process_specs.add(m.flow[10] >= 0.4 * m.flow[17])\n",
    "m.process_specs.add(m.flow[12] <= 5 * m.flow[14])\n",
    "m.process_specs.add(m.flow[12] >= 2 * m.flow[14])\n",
    "\n",
    "m.logical_propositions = LogicalStatementList()\n",
    "m.logical_propositions.add((m.use_unit[1] | m.use_unit[2]).implies(m.use_unit[3] | m.use_unit[4] | m.use_unit[5]))\n",
    "m.logical_propositions.add(m.use_unit[3].implies(m.use_unit[8]))\n",
    "m.logical_propositions.add(m.use_unit[4].equivalent_to(m.use_unit[6] | m.use_unit[7]))\n",
    "\n",
    "# Optimal solution uses units 2, 4, 6, 8 with objective value 68.\n",
    "# m.pprint()  # uncomment to print all model objects\n",
    "print(\"Model built.\")"
   ]
  },
  {
   "cell_type": "code",
   "execution_count": 3,
   "metadata": {},
   "outputs": [],
   "source": [
    "TransformationFactory('core.logical_to_linear').apply_to(m)\n",
    "SolverFactory('gdpopt').solve(m, tee=False, nlp_solver='gams')\n",
    "# TransformationFactory('gdp.bigm').apply_to(m)\n",
    "# SolverFactory('gams').solve(m)\n",
    "update_boolean_vars_from_binary(m)\n",
    "# m.display()"
   ]
  },
  {
   "cell_type": "code",
   "execution_count": 4,
   "metadata": {},
   "outputs": [
    {
     "name": "stdout",
     "output_type": "stream",
     "text": [
      "min_cost : Size=1, Index=None, Active=True\n",
      "    Key  : Active : Value\n",
      "    None :   True : 68.00974405106514\n",
      "use_unit : Size=8, Index=units\n",
      "    Key : Value : Fixed : Stale\n",
      "      1 : False : False :  True\n",
      "      2 :  True : False :  True\n",
      "      3 : False : False :  True\n",
      "      4 :  True : False :  True\n",
      "      5 : False : False :  True\n",
      "      6 :  True : False :  True\n",
      "      7 : False : False :  True\n",
      "      8 :  True : False :  True\n"
     ]
    }
   ],
   "source": [
    "# m.display()\n",
    "m.min_cost.display()\n",
    "m.use_unit.display()"
   ]
  },
  {
   "cell_type": "code",
   "execution_count": null,
   "metadata": {},
   "outputs": [],
   "source": []
  },
  {
   "cell_type": "code",
   "execution_count": null,
   "metadata": {},
   "outputs": [],
   "source": []
  }
 ],
 "metadata": {
  "kernelspec": {
   "display_name": "Pyomo (logical beta)",
   "language": "python",
   "name": "logic-beta"
  },
  "language_info": {
   "codemirror_mode": {
    "name": "ipython",
    "version": 3
   },
   "file_extension": ".py",
   "mimetype": "text/x-python",
   "name": "python",
   "nbconvert_exporter": "python",
   "pygments_lexer": "ipython3",
   "version": "3.7.4"
  }
 },
 "nbformat": 4,
 "nbformat_minor": 4
}
