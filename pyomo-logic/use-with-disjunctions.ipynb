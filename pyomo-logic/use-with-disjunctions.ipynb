{
 "cells": [
  {
   "cell_type": "markdown",
   "metadata": {},
   "source": [
    "# [Pyomo.GDP](./index.ipynb) Logical Expression System Demo - Working with Disjuncts and Disjunctions\n",
    "\n",
    "The logical expression system is designed to augment the previously introduced `Disjunct` and `Disjunction` Pyomo components, the first components in Pyomo.GDP.\n",
    "These components allow the organization of numeric constraints into logical contexts, which we term disjuncts.\n",
    "\n",
    "All of the constraints in a disjuncts are all either enforced, or left unenforced.\n",
    "Note that constraints left unenforced may still be satisfied.\n",
    "An indicator variable denotes whether the constraints of a disjunct are enforced.\n",
    "The groupings of constraints organized in disjuncts may then be related to each other by OR relationships, i.e. disjunctions.\n",
    "\n",
    "In literature, the disjunct indicator variable is Boolean; however, for historical reasons, it was originally implemented in Pyomo.GDP as a binary variable.\n",
    "The logical expression system allows us to now associate a Boolean variable to the disjuncts and declare proper logical propositions involving disjuncts.\n",
    "These logical propositions are associated with our Pyomo model using `LogicalStatement` objects.\n",
    "\n",
    "The code currently relies on the logic-v1 branch at https://github.com/qtothec/pyomo/tree/logic-v1."
   ]
  },
  {
   "cell_type": "code",
   "execution_count": 1,
   "metadata": {},
   "outputs": [],
   "source": [
    "from pyomo.environ import *\n",
    "from pyomo.gdp import *\n",
    "from pyomo.core.expr.logical_expr import *\n",
    "from pyomo.core.plugins.transform.logical_to_linear import update_boolean_vars_from_binary"
   ]
  },
  {
   "cell_type": "markdown",
   "metadata": {},
   "source": [
    "Here, we define a toy example to demonstrate the capability:\n",
    "    \n",
    "$$\\begin{aligned}\\min~&x\\\\\n",
    "\\text{s.t.}~&\\left[\\begin{gathered}Y_1\\\\x \\geq 2\\end{gathered}\\right] \\vee \\left[\\begin{gathered}Y_2\\\\x \\geq 3\\end{gathered}\\right]\\\\\n",
    "&\\left[\\begin{gathered}Y_3\\\\x \\leq 8\\end{gathered}\\right] \\vee \\left[\\begin{gathered}Y_4\\\\x = 2.5\\end{gathered}\\right] \\\\\n",
    "&Y_1 \\underline{\\vee} Y_2\\\\\n",
    "&Y_3 \\underline{\\vee} Y_4\\\\\n",
    "&Y_1 \\Rightarrow Y_4\n",
    "\\end{aligned}$$"
   ]
  },
  {
   "cell_type": "code",
   "execution_count": 2,
   "metadata": {},
   "outputs": [],
   "source": [
    "def build_new_model():\n",
    "    m = ConcreteModel()\n",
    "    m.s = RangeSet(4)\n",
    "    m.ds = RangeSet(2)\n",
    "    m.Y = BooleanVar(m.s)\n",
    "    m.d = Disjunct(m.s)\n",
    "    m.djn = Disjunction(m.ds)\n",
    "    m.djn[1] = [m.d[1], m.d[2]]\n",
    "    m.djn[2] = [m.d[3], m.d[4]]\n",
    "    m.x = Var(bounds=(-2, 10))\n",
    "    m.d[1].c = Constraint(expr=m.x >= 2)\n",
    "    m.d[2].c = Constraint(expr=m.x >= 3)\n",
    "    m.d[3].c = Constraint(expr=m.x <= 8)\n",
    "    m.d[4].c = Constraint(expr=m.x == 2.5)\n",
    "    m.o = Objective(expr=m.x)\n",
    "    return m"
   ]
  },
  {
   "cell_type": "code",
   "execution_count": 3,
   "metadata": {},
   "outputs": [],
   "source": [
    "m = build_new_model()\n",
    "# Associate Boolean vars with auto-generated (by Pyomo.GDP) binaries\n",
    "for i in m.s:\n",
    "    m.Y[i].set_binary_var(m.d[i].indicator_var)"
   ]
  },
  {
   "cell_type": "markdown",
   "metadata": {},
   "source": [
    "Add the implication $Y_1 \\Rightarrow Y_4$"
   ]
  },
  {
   "cell_type": "code",
   "execution_count": 4,
   "metadata": {},
   "outputs": [],
   "source": [
    "m.p = LogicalStatement(expr=m.Y[1].implies(m.Y[4]))\n",
    "# Note: the implicit XOR enforced by the Disjunction object defined above still applies"
   ]
  },
  {
   "cell_type": "code",
   "execution_count": 5,
   "metadata": {},
   "outputs": [],
   "source": [
    "TransformationFactory('core.logical_to_linear').apply_to(m)\n",
    "TransformationFactory('gdp.bigm').apply_to(m)"
   ]
  },
  {
   "cell_type": "code",
   "execution_count": 6,
   "metadata": {},
   "outputs": [
    {
     "name": "stdout",
     "output_type": "stream",
     "text": [
      "Y : Size=4, Index=s\n",
      "    Key : Value : Fixed : Stale\n",
      "      1 :  None : False :  True\n",
      "      2 :  None : False :  True\n",
      "      3 :  None : False :  True\n",
      "      4 :  None : False :  True\n"
     ]
    }
   ],
   "source": [
    "m.Y.display()  # Before solve, Boolean vars have no value"
   ]
  },
  {
   "cell_type": "code",
   "execution_count": 7,
   "metadata": {},
   "outputs": [],
   "source": [
    "SolverFactory('gams').solve(m)\n",
    "update_boolean_vars_from_binary(m)"
   ]
  },
  {
   "cell_type": "code",
   "execution_count": 8,
   "metadata": {},
   "outputs": [
    {
     "name": "stdout",
     "output_type": "stream",
     "text": [
      "Y : Size=4, Index=s\n",
      "    Key : Value : Fixed : Stale\n",
      "      1 :  True : False :  True\n",
      "      2 : False : False :  True\n",
      "      3 : False : False :  True\n",
      "      4 :  True : False :  True\n"
     ]
    }
   ],
   "source": [
    "# m.display()\n",
    "m.Y.display()"
   ]
  },
  {
   "cell_type": "markdown",
   "metadata": {},
   "source": [
    "## Logical statements on Disjuncts\n",
    "\n",
    "The new expression system lets modelers attach logical statements onto Disjuncts. This is not part of the classic literature GDP formulation, but can be understood as an implication relationship. That is, we have the following disjunctive structure, which resolves to the same logic as above:\n",
    "\n",
    "$$\\begin{aligned}\\min~&x\\\\\n",
    "\\text{s.t.}~&\\left[\\begin{gathered}Y_1\\\\x \\geq 2\\\\Y_4 = True\\end{gathered}\\right] \\vee \\left[\\begin{gathered}Y_2\\\\x \\geq 3\\end{gathered}\\right]\\\\\n",
    "&\\left[\\begin{gathered}Y_3\\\\x \\leq 8\\end{gathered}\\right] \\vee \\left[\\begin{gathered}Y_4\\\\x = 2.5\\end{gathered}\\right] \\\\\n",
    "&Y_1 \\underline{\\vee} Y_2\\\\\n",
    "&Y_3 \\underline{\\vee} Y_4\n",
    "\\end{aligned}$$\n",
    "\n",
    "Demonstrating this on our earlier example, we have:"
   ]
  },
  {
   "cell_type": "code",
   "execution_count": 11,
   "metadata": {},
   "outputs": [
    {
     "name": "stdout",
     "output_type": "stream",
     "text": [
      "Y : Size=4, Index=s\n",
      "    Key : Value : Fixed : Stale\n",
      "      1 :  True : False :  True\n",
      "      2 : False : False :  True\n",
      "      3 : False : False :  True\n",
      "      4 :  True : False :  True\n"
     ]
    }
   ],
   "source": [
    "m = build_new_model()\n",
    "for i in m.s:\n",
    "    m.Y[i].set_binary_var(m.d[i].indicator_var)\n",
    "    \n",
    "m.d[1].p = LogicalStatement(expr=m.Y[4])\n",
    "TransformationFactory('core.logical_to_linear').apply_to(m)\n",
    "TransformationFactory('gdp.bigm').apply_to(m)\n",
    "SolverFactory('gams').solve(m)\n",
    "update_boolean_vars_from_binary(m)\n",
    "m.Y.display()"
   ]
  },
  {
   "cell_type": "markdown",
   "metadata": {},
   "source": [
    "## Indexed logical statements\n",
    "\n",
    "Like `Constraint` objects for numerical expressions, `LogicalStatement` objects can be used in an indexed manner.\n",
    "An example of this usage may be found below for the expression:\n",
    "\n",
    "$$Y_{i+1} \\Rightarrow Y_{i}, \\quad \\forall i \\in \\{1, 2, \\dots, n-1\\}$$"
   ]
  },
  {
   "cell_type": "code",
   "execution_count": 12,
   "metadata": {},
   "outputs": [
    {
     "name": "stdout",
     "output_type": "stream",
     "text": [
      "1 RangeSet Declarations\n",
      "    I : Dim=0, Dimen=1, Size=5, Domain=Integers, Ordered=True, Bounds=(1, 5)\n",
      "        Virtual\n",
      "\n",
      "1 BooleanVar Declarations\n",
      "    Y : Size=5, Index=I\n",
      "        Key : Value : Fixed : Stale\n",
      "          1 :  None : False :  True\n",
      "          2 :  None : False :  True\n",
      "          3 :  None : False :  True\n",
      "          4 :  None : False :  True\n",
      "          5 :  None : False :  True\n",
      "\n",
      "1 LogicalStatement Declarations\n",
      "    p : Size=4, Index=I, Active=True\n",
      "        Key : Body         : Active\n",
      "          1 : Y[2] >> Y[1] :   True\n",
      "          2 : Y[3] >> Y[2] :   True\n",
      "          3 : Y[4] >> Y[3] :   True\n",
      "          4 : Y[5] >> Y[4] :   True\n",
      "\n",
      "3 Declarations: I Y p\n"
     ]
    }
   ],
   "source": [
    "m = ConcreteModel()\n",
    "n = 5\n",
    "m.I = RangeSet(n)\n",
    "m.Y = BooleanVar(m.I)\n",
    "\n",
    "@m.LogicalStatement(m.I)\n",
    "def p(m, i):\n",
    "    return m.Y[i+1] >> m.Y[i] if i < n else True\n",
    "\n",
    "m.pprint()"
   ]
  },
  {
   "cell_type": "code",
   "execution_count": 13,
   "metadata": {},
   "outputs": [
    {
     "name": "stdout",
     "output_type": "stream",
     "text": [
      "p : Size=4, Index=I, Active=True\n",
      "    Key : Body         : Active\n",
      "      1 : Y[2] >> Y[1] :  False\n",
      "      2 : Y[3] >> Y[2] :  False\n",
      "      3 : Y[4] >> Y[3] :  False\n",
      "      4 : Y[5] >> Y[4] :  False\n",
      "logic_to_linear : Size=4, Index=logic_to_linear_index, Active=True\n",
      "    Key : Lower : Body                              : Upper : Active\n",
      "      1 :   1.0 : 1 - Y_asbinary[2] + Y_asbinary[1] :  +Inf :   True\n",
      "      2 :   1.0 : 1 - Y_asbinary[3] + Y_asbinary[2] :  +Inf :   True\n",
      "      3 :   1.0 : 1 - Y_asbinary[4] + Y_asbinary[3] :  +Inf :   True\n",
      "      4 :   1.0 : 1 - Y_asbinary[5] + Y_asbinary[4] :  +Inf :   True\n"
     ]
    }
   ],
   "source": [
    "TransformationFactory('core.logical_to_linear').apply_to(m)\n",
    "m.p.pprint()\n",
    "m.logic_to_linear.pprint()"
   ]
  },
  {
   "cell_type": "code",
   "execution_count": null,
   "metadata": {},
   "outputs": [],
   "source": []
  }
 ],
 "metadata": {
  "kernelspec": {
   "display_name": "Pyomo (logical beta)",
   "language": "python",
   "name": "logic-beta"
  },
  "language_info": {
   "codemirror_mode": {
    "name": "ipython",
    "version": 3
   },
   "file_extension": ".py",
   "mimetype": "text/x-python",
   "name": "python",
   "nbconvert_exporter": "python",
   "pygments_lexer": "ipython3",
   "version": "3.7.4"
  }
 },
 "nbformat": 4,
 "nbformat_minor": 4
}
